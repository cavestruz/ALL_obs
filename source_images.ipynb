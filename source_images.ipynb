{
 "cells": [
  {
   "cell_type": "code",
   "execution_count": 4,
   "metadata": {
    "collapsed": false,
    "scrolled": true
   },
   "outputs": [],
   "source": [
    "import numpy as np\n",
    "from astropy.cosmology import Planck15 as ncosmo\n",
    "\n",
    "def Dc(z):\n",
    "    return ncosmo.comoving_distance(z).value*ncosmo.h\n",
    "\n",
    "def Da(z):\n",
    "    return ncosmo.comoving_distance(z).value*ncosmo.h/(1+z)\n",
    "\n",
    "def calc_r_size(img):\n",
    "    \"\"\"Calculate r_size in kpc/h.\"\"\"\n",
    "    zs = 2.0\n",
    "    dsi = 0.0075 # arcsec\n",
    "    apr = 206269.43\n",
    "    dsp = dsi*Da(zs)/apr*1000.0 # kpc/h, physics distance\n",
    "    \n",
    "    idx = img > 0.0\n",
    "    npix = len(img[idx])\n",
    "    \n",
    "    area = npix*dsp*dsp\n",
    "    \n",
    "    return np.sqrt(area/np.pi)"
   ]
  },
  {
   "cell_type": "code",
   "execution_count": 6,
   "metadata": {
    "collapsed": true
   },
   "outputs": [],
   "source": [
    "import glob\n",
    "from astropy.io.fits import getdata\n",
    "import matplotlib.pyplot as plt\n",
    "%matplotlib inline"
   ]
  },
  {
   "cell_type": "code",
   "execution_count": 41,
   "metadata": {
    "collapsed": false,
    "scrolled": true
   },
   "outputs": [
    {
     "data": {
      "image/png": "[encoded data removed]",
      "text/plain": [
       "<matplotlib.figure.Figure at 0x119e6ab10>"
      ]
     },
     "metadata": {},
     "output_type": "display_data"
    }
   ],
   "source": [
    "img_dir = '/Users/f566998/Code/DeepLearning/ALL_referee_report/source_images/stacked'\n",
    "image_files = glob.glob('{}/*.fits'.format(img_dir))\n",
    "for filename in image_files:\n",
    "    img = getdata(filename).copy()\n",
    "    r_size = calc_r_size(img)\n",
    "    plt.clf()\n",
    "    plt.imshow(img)\n",
    "    plt.annotate('r$_{phys}$ = ' + str(round(r_size, 2)) + ' kpc/h',\n",
    "                 xy=(0.1,0.9), xytext=(0.05,0.93), textcoords='axes fraction', color='white')\n",
    "    #plt.show()\n",
    "    plt.savefig('{}/png/{}.png'.format(img_dir, '.'.join(filename.split('/')[-1].split('.')[:-1])))"
   ]
  },
  {
   "cell_type": "code",
   "execution_count": null,
   "metadata": {
    "collapsed": true
   },
   "outputs": [],
   "source": []
  },
  {
   "cell_type": "code",
   "execution_count": null,
   "metadata": {
    "collapsed": false
   },
   "outputs": [],
   "source": [
    "#from skimage import exposure\n",
    "#better_contrast = exposure.rescale_intensity(img, in_range='image', out_range='dtype')"
   ]
  },
  {
   "cell_type": "code",
   "execution_count": null,
   "metadata": {
    "collapsed": true
   },
   "outputs": [],
   "source": []
  }
 ],
 "metadata": {
  "kernelspec": {
   "display_name": "Python 2",
   "language": "python",
   "name": "python2"
  },
  "language_info": {
   "codemirror_mode": {
    "name": "ipython",
    "version": 2
   },
   "file_extension": ".py",
   "mimetype": "text/x-python",
   "name": "python",
   "nbconvert_exporter": "python",
   "pygments_lexer": "ipython2",
   "version": "2.7.13"
  }
 },
 "nbformat": 4,
 "nbformat_minor": 2
}
